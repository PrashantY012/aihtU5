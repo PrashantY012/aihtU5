{
 "cells": [
  {
   "cell_type": "code",
   "execution_count": null,
   "metadata": {},
   "outputs": [],
   "source": [
    "import pickle\n",
    "import tensorflow as tf\n",
    "import TFLiteConverter from tensorflow.lite\n",
    "with open('model_pickle','wb') as f:\n",
    "    pickle.dump(model,f)\n",
    "\n",
    "with open('model_pickle','rb') as f:\n",
    "    mp=pickle.load(f)\n",
    "mp.train()\n",
    "\n",
    "\n",
    "# Convert the model\n",
    "converter = tf.lite.TFLiteConverter.from_saved_model(model_pickle) # path to the SavedModel directory\n",
    "tflite_model = converter.convert()\n",
    "\n",
    "# Save the model.\n",
    "with open('tiny_model.tflite', 'wb') as f:\n",
    "  f.write(tflite_model)\n",
    "\n",
    "\n",
    "\n",
    "import tensorflow as tf\n",
    "\n",
    "# Create a model using high-level tf.keras.* APIs\n",
    "model = tf.keras.models.Sequential([\n",
    "    tf.keras.layers.Dense(units=1, input_shape=[1]),\n",
    "    tf.keras.layers.Dense(units=16, activation='relu'),\n",
    "    tf.keras.layers.Dense(units=1)\n",
    "])\n",
    "model.compile(optimizer='sgd', loss='mean_squared_error') # compile the model\n",
    "model.fit(x=[-1, 0, 1], y=[-3, -1, 1], epochs=5) # train the model\n",
    "# (to generate a SavedModel) tf.saved_model.save(model, \"saved_model_keras_dir\")\n",
    "\n",
    "# Convert the model.\n",
    "converter = tf.lite.TFLiteConverter.from_keras_model(model)\n",
    "tflite_model = converter.convert()\n",
    "\n",
    "# Save the model.\n",
    "with open('model.tflite', 'wb') as f:\n",
    "  f.write(tflite_model)"
   ]
  }
 ],
 "metadata": {
  "language_info": {
   "name": "python"
  }
 },
 "nbformat": 4,
 "nbformat_minor": 2
}
